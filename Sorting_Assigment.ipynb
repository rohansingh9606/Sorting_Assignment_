{
 "cells": [
  {
   "cell_type": "raw",
   "id": "6cfb84e3-b198-4b36-b7f1-777f0b253bfc",
   "metadata": {},
   "source": [
    "Problem 1.Given an array of n numbers, give an algorithm which gives the element appearing maximum\n",
    "number of times?"
   ]
  },
  {
   "cell_type": "code",
   "execution_count": 5,
   "id": "8e453571-104b-450f-b39a-9b85e8efa0cb",
   "metadata": {},
   "outputs": [
    {
     "name": "stdout",
     "output_type": "stream",
     "text": [
      "3\n"
     ]
    }
   ],
   "source": [
    "def Maximum_count(arr,n):\n",
    "    Maxcount = 0\n",
    "    Number_of_count = 0\n",
    "    for i in range(0,len(arr)):\n",
    "        count = 0\n",
    "        for j in range(0,len(arr)):\n",
    "            if arr[i] == arr[j]:  #to find maximun number of occurerane\n",
    "                count+=1\n",
    "            if (count> Maxcount):\n",
    "                Maxcount = count\n",
    "                Number_of_count = arr[i] #apperaing maxium number of time and return \n",
    "    return Number_of_count\n",
    "arr = [1,2,3,3,4,3,5,9,3] \n",
    "print(Maximum_count(arr, n))\n",
    "                "
   ]
  },
  {
   "cell_type": "raw",
   "id": "7e8c4d1c-fd27-4ce7-8607-87c4251193a0",
   "metadata": {},
   "source": [
    "Problem 2 : We are given a list of n-1 integers and these integers are in the range of 1 to n . There are no\n",
    "duplicates in the list. One of the integers is missing in the list. Give an algorithm to find that element Ex:\n",
    "[1,2,4,6,3,7,8] 5 is the missing num."
   ]
  },
  {
   "cell_type": "code",
   "execution_count": 16,
   "id": "14692cc4-530e-47a1-ac96-3d06513a7851",
   "metadata": {},
   "outputs": [
    {
     "name": "stdout",
     "output_type": "stream",
     "text": [
      "8\n"
     ]
    }
   ],
   "source": [
    "def missingnumber(arr):\n",
    "    n = len(arr)\n",
    "    total = int((n + 1)*(n + 2)/2) #find sum of total array.\n",
    "    sum_arr = 0\n",
    "    for i in range(0,n): # calulating Sum of array \n",
    "        sum_arr += arr[i]\n",
    "    return total - sum_arr #finding missing element.\n",
    "arr = [1,2,4,6,3,7,5]\n",
    "print(missingnumber(arr))\n",
    "        \n",
    "    "
   ]
  },
  {
   "cell_type": "raw",
   "id": "387c4a6e-7b09-4413-b069-dfd4162af4c0",
   "metadata": {},
   "source": [
    "Problrm 3: Given an array of n positive numbers. All numbers occurs even number of times except 1 which\n",
    "occurs odd number of times. Find that number in O(n) time and O(1) space. Ex: [1,2,3,2,3,1,3]. 3 is repeats odd\n",
    "times."
   ]
  },
  {
   "cell_type": "code",
   "execution_count": 22,
   "id": "1b604ddf-d673-44d0-bf2c-430de89bd275",
   "metadata": {},
   "outputs": [
    {
     "name": "stdout",
     "output_type": "stream",
     "text": [
      "3\n"
     ]
    }
   ],
   "source": [
    "def odd_occurs(arr):\n",
    "    n= len(arr)\n",
    "    for i in range(0,n):\n",
    "        count = 0\n",
    "        for j in range(0,n): #finding the number of element occurence\n",
    "            if arr[i] == arr[j]:\n",
    "                count+=1\n",
    "        if count % 2 != 0: #if they are even number of count or not\n",
    "            return arr[i]\n",
    "    \n",
    "arr = [1,2,3,2,3,1,3]\n",
    "print(odd_occurs(arr))"
   ]
  },
  {
   "cell_type": "raw",
   "id": "13f977e9-657f-4f05-8b42-0b74e096828b",
   "metadata": {},
   "source": [
    "Problem 4: Given an array of n elements. Find two elements in the array such that their sum is equal to given\n",
    "element K.\n"
   ]
  },
  {
   "cell_type": "code",
   "execution_count": 4,
   "id": "91d0b2a8-efa8-4a24-85b5-e20dff22f99e",
   "metadata": {},
   "outputs": [
    {
     "name": "stdout",
     "output_type": "stream",
     "text": [
      "[1, 6]\n"
     ]
    }
   ],
   "source": [
    "def Sumoftwo(arr,x):\n",
    "    for i in range (0,(len(arr)-1)):\n",
    "        for j in range (i+1,(len(arr))):\n",
    "            if arr[i] + arr[j] ==x:\n",
    "                return [arr[i],arr[j]]\n",
    "        return 0\n",
    "arr = [1,4,6]\n",
    "print(Sumoftwo(arr,7))"
   ]
  },
  {
   "cell_type": "raw",
   "id": "ece89144-27ce-47bc-ba05-923e959dc0cf",
   "metadata": {},
   "source": [
    "Problrm 5 :Given an array of both positive and negative numbers, find two numbers such that their sum is\n",
    "closest to 0. Ex: [ 1 ,60 ,-10, 70, -80,85]. Ans : -80,85."
   ]
  },
  {
   "cell_type": "code",
   "execution_count": 9,
   "id": "9362b048-a639-45af-b52b-a663d216f0ba",
   "metadata": {},
   "outputs": [
    {
     "name": "stdout",
     "output_type": "stream",
     "text": [
      "Closest sum to zero pair: (-80, 85)\n"
     ]
    }
   ],
   "source": [
    "def closest_sum_to_zero(arr):\n",
    "    if len(arr) < 2:\n",
    "        return None  # Not enough elements in the array\n",
    "\n",
    "    min_sum = float('inf')\n",
    "    result_pair = (None, None)\n",
    "\n",
    "    for i in range(len(arr)):\n",
    "        for j in range(i + 1, len(arr)):\n",
    "            current_sum = arr[i] + arr[j]\n",
    "\n",
    "            if abs(current_sum) < abs(min_sum):\n",
    "                min_sum = current_sum\n",
    "                result_pair = (arr[i], arr[j])\n",
    "\n",
    "    return result_pair\n",
    "arr = [1, 60, -10, 70, -80, 85]\n",
    "result = closest_sum_to_zero(arr)\n",
    "print(f\"Closest sum to zero pair: {result}\")"
   ]
  },
  {
   "cell_type": "raw",
   "id": "d99f49d4-e22e-4275-9852-d22f917d843b",
   "metadata": {},
   "source": [
    "Problrem 6:Given an array of n elements . Find three elements such that their sum is equal to the given\n",
    "number."
   ]
  },
  {
   "cell_type": "code",
   "execution_count": 10,
   "id": "1d9b8d6a-2d7b-4e2b-86cc-97fa98fad846",
   "metadata": {},
   "outputs": [
    {
     "name": "stdout",
     "output_type": "stream",
     "text": [
      "[4, 10, 8]\n"
     ]
    }
   ],
   "source": [
    "def Sumofthree(arr,x):\n",
    "    for i in range (0,(len(arr)-2)):\n",
    "        for j in range (i+1,(len(arr)-1)):\n",
    "            for k in range (j+1,(len(arr))):\n",
    "                if arr[i] + arr[j]+ arr[k] == x:\n",
    "                    return [arr[i],arr[j], arr[k]]\n",
    "    return 0\n",
    "arr =  [1, 4, 45, 6, 10, 8]\n",
    "print(Sumofthree(arr,22))"
   ]
  },
  {
   "cell_type": "raw",
   "id": "a3971d39-8bc3-424f-8d8a-23bff5cd34f2",
   "metadata": {},
   "source": [
    "Problem 7: Given an array of n elements . Find three elements i, j, k in the array such that\n",
    "i * i + j * j = k*k."
   ]
  },
  {
   "cell_type": "code",
   "execution_count": 12,
   "id": "ae56a6bc-7dbf-4df3-8f8d-98face453a8a",
   "metadata": {},
   "outputs": [
    {
     "name": "stdout",
     "output_type": "stream",
     "text": [
      "[3, 4, 5]\n"
     ]
    }
   ],
   "source": [
    "def findthree(arr):\n",
    "    for i in range (0,(len(arr)-2)):\n",
    "        for j in range (i+1,(len(arr)-1)):\n",
    "            for k in range (j+1,(len(arr))):\n",
    "                if ((arr[i]*arr[i])+(arr[j]*arr[j]))  == arr[k]*arr[k]:\n",
    "                    return [arr[i],arr[j], arr[k]]\n",
    "    return 0\n",
    "arr=[1,2,3,4,5,6]\n",
    "print(findthree(arr))"
   ]
  },
  {
   "cell_type": "raw",
   "id": "de9b3a18-765c-4c55-b700-a375fcc29e26",
   "metadata": {},
   "source": [
    "Problem 8: An element is a majority if it appears more than n/2 times. Give an algorithm takes an array of n\n",
    "element as argument and identifies a majority (if it exists)."
   ]
  },
  {
   "cell_type": "code",
   "execution_count": 3,
   "id": "53472458-ef3e-4431-a0c8-dd1da52a6211",
   "metadata": {},
   "outputs": [
    {
     "name": "stdout",
     "output_type": "stream",
     "text": [
      "2\n"
     ]
    }
   ],
   "source": [
    "def majorityelement(arr):\n",
    "    for i in range (len(arr)):\n",
    "        count = 0\n",
    "        for j in range (len(arr)): #find majority of count\n",
    "            if arr[i]==arr[j]:\n",
    "                count+=1\n",
    "        if count > (len(arr))/2: #check count is more then n/2 or not\n",
    "            return arr[i]\n",
    "arr = [1,2,2,2,3]\n",
    "print(majorityelement(arr))"
   ]
  },
  {
   "cell_type": "raw",
   "id": "4b32f7df-b07c-4a07-8481-0e3ffb8636f1",
   "metadata": {},
   "source": [
    "Problem 9:Given n × n matrix, and in each row all 1’s are followed by 0’s. Find the row with the maximum\n",
    "number of 0’s."
   ]
  },
  {
   "cell_type": "code",
   "execution_count": 10,
   "id": "026083bf-f97e-4508-800f-b9c65e0c42f5",
   "metadata": {},
   "outputs": [
    {
     "name": "stdout",
     "output_type": "stream",
     "text": [
      "Row with the maximum number of zeros: 1\n"
     ]
    }
   ],
   "source": [
    "def find_row_with_max_zeros(matrix):\n",
    "    max_zeros_row = -1\n",
    "    max_zeros_count = 0\n",
    "\n",
    "    for i, row in enumerate(matrix):\n",
    "        zeros_count = row.count(0)\n",
    "\n",
    "        if zeros_count > max_zeros_count:\n",
    "            max_zeros_count = zeros_count\n",
    "            max_zeros_row = i\n",
    "\n",
    "    return max_zeros_row\n",
    "\n",
    "# Example usage:\n",
    "matrix = [\n",
    "    [1, 1, 1, 0, 0],\n",
    "    [1, 1, 0, 0, 0],\n",
    "    [1, 1, 1, 1, 0],\n",
    "    [1, 1, 1, 0, 0],\n",
    "    [1, 1, 0, 0, 0]\n",
    "]\n",
    "\n",
    "result_row = find_row_with_max_zeros(matrix)\n",
    "print(f\"Row with the maximum number of zeros: {result_row}\")\n"
   ]
  },
  {
   "cell_type": "raw",
   "id": "ddb15248-21b0-46dc-a1f8-4e71fcfc047f",
   "metadata": {},
   "source": [
    "Problem 10: Sort an array of 0’s, 1’s and 2’s [or R’s, G’s and B’s]: Given an array A[] consisting of 0’s, 1’s and\n",
    "2’s, give an algorithm for sorting A[].The algorithm should put all 0’s first, then all 1’s and finally all 2’s at the\n",
    "end. Example Input = {0,1,1,0,1,2,1,2,0,0,0,1}, Output = {0,0,0,0,0,1,1,1,1,1,2,2}"
   ]
  },
  {
   "cell_type": "code",
   "execution_count": 6,
   "id": "e2bc29a3-ad46-425d-b9f5-adc374bb0585",
   "metadata": {},
   "outputs": [
    {
     "name": "stdout",
     "output_type": "stream",
     "text": [
      "[0, 0, 0, 0, 0, 1, 1, 1, 1, 1, 2, 2]\n"
     ]
    }
   ],
   "source": [
    "def sort(arr):\n",
    "    l = 0\n",
    "    h = len(arr)-1\n",
    "    m = 0\n",
    "    while m<=h:\n",
    "        if arr[m]==0:                      #for 0\n",
    "            arr[l],arr[m],=arr[m],arr[l]\n",
    "            l+=1\n",
    "            m+=1\n",
    "        elif arr[m]==1:                    #for 1\n",
    "            m+=1                    \n",
    "        else:                              #for 2\n",
    "            arr[m],arr[h]=arr[h],arr[m]\n",
    "            h-=1\n",
    "    return arr\n",
    "\n",
    "arr = [0, 1, 1, 0, 1, 2, 1, 2, 0, 0, 0, 1]\n",
    "print(sort(arr))"
   ]
  },
  {
   "cell_type": "code",
   "execution_count": null,
   "id": "fef082a5-33e6-491b-89d1-a748cedfd86e",
   "metadata": {},
   "outputs": [],
   "source": []
  }
 ],
 "metadata": {
  "kernelspec": {
   "display_name": "Python 3 (ipykernel)",
   "language": "python",
   "name": "python3"
  },
  "language_info": {
   "codemirror_mode": {
    "name": "ipython",
    "version": 3
   },
   "file_extension": ".py",
   "mimetype": "text/x-python",
   "name": "python",
   "nbconvert_exporter": "python",
   "pygments_lexer": "ipython3",
   "version": "3.10.8"
  }
 },
 "nbformat": 4,
 "nbformat_minor": 5
}
